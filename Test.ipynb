{
  "nbformat": 4,
  "nbformat_minor": 0,
  "metadata": {
    "colab": {
      "provenance": [],
      "authorship_tag": "ABX9TyNulaUY3Pn0Z/kz9/7XjibM",
      "include_colab_link": true
    },
    "kernelspec": {
      "name": "python3",
      "display_name": "Python 3"
    },
    "language_info": {
      "name": "python"
    }
  },
  "cells": [
    {
      "cell_type": "markdown",
      "metadata": {
        "id": "view-in-github",
        "colab_type": "text"
      },
      "source": [
        "<a href=\"https://colab.research.google.com/github/Camiloaldanag15/test-repository/blob/main/Test.ipynb\" target=\"_parent\"><img src=\"https://colab.research.google.com/assets/colab-badge.svg\" alt=\"Open In Colab\"/></a>"
      ]
    },
    {
      "cell_type": "markdown",
      "source": [
        "# Archivo de prueba\n",
        "### Camilo Aldana\n",
        "### 000480904\n",
        "### camilo.aldanag@upb.edu.co"
      ],
      "metadata": {
        "id": "UY9KtI8J4pBR"
      }
    },
    {
      "cell_type": "code",
      "source": [
        "name = 'Camilo'\n",
        "#name = input(\"What's your name? \")\n",
        "print(\"Hello \", name, \", welcome to Colab!\")"
      ],
      "metadata": {
        "colab": {
          "base_uri": "https://localhost:8080/"
        },
        "id": "gX2sG0_D5rop",
        "outputId": "347b541c-c384-43ac-ec3b-3f20768543de"
      },
      "execution_count": 4,
      "outputs": [
        {
          "output_type": "stream",
          "name": "stdout",
          "text": [
            "Hello  Camilo , welcome to Colab!\n"
          ]
        }
      ]
    },
    {
      "cell_type": "code",
      "source": [],
      "metadata": {
        "id": "0u5IfWp_6Y2D"
      },
      "execution_count": null,
      "outputs": []
    }
  ]
}